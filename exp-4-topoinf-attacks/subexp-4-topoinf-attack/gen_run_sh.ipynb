{
 "cells": [
  {
   "cell_type": "markdown",
   "metadata": {},
   "source": [
    "## Generate Shell File"
   ]
  },
  {
   "cell_type": "code",
   "execution_count": 12,
   "metadata": {},
   "outputs": [],
   "source": [
    "def topoinf_train_model_wrapper(\n",
    "        py_file = 'topoinf_pseudo_label_train_model.py',\n",
    "\n",
    "        model = 'GCN',\n",
    "        dataset = 'cora',  \n",
    "        num_layers = 3,\n",
    "\n",
    "        delete_unit = 'ratio',\n",
    "        delete_mode = 'neg',\n",
    "        topoinf_threshold = None,\n",
    "\n",
    "        one_hot_mask = ['train_mask', 'val_mask'],\n",
    "        correct_and_smooth = False,\n",
    "        entropy_aware = True ,\n",
    "\t    entropy_coefficient = 0.02,\n",
    "    ):\n",
    "    command = ''\n",
    "\n",
    "    # model & dataset\n",
    "    command += f\"\\npython {py_file} \\\\\"   # NOTE: .py file\n",
    "    command += f\"\\n\\t--model {model} \\\\\"\n",
    "    command += f\"\\n\\t--dataset {dataset} \\\\\"\n",
    "    command += f\"\\n\\t--num-layers {num_layers} \\\\\"\n",
    "    \n",
    "    # topoinf setting\n",
    "    command += f\"\\n\\t--delete-unit {delete_unit} \\\\\"\n",
    "    command += f\"\\n\\t--delete-mode {delete_mode} \\\\\"\n",
    "    command += f\"\\n\\t--entropy-aware {entropy_aware} \\\\\"\n",
    "    command += f\"\\n\\t--entropy-coefficient {entropy_coefficient} \\\\\"\n",
    "\n",
    "    command += f\"\\n\\t--one-hot-mask {' '.join(one_hot_mask)} \\\\\"\n",
    "    if correct_and_smooth:\n",
    "        command += f\"\\n\\t--use-correct-and-smooth \\\\\"\n",
    "        \n",
    "    command += f\"\\n\\t--topoinf-threshold {topoinf_threshold} \\\\\" if topoinf_threshold is not None else ''\n",
    "    \n",
    "    command += '\\n\\n'\n",
    "    \n",
    "    return command\n",
    "\n",
    "# test_string = topoinf_train_model_wrapper()\n",
    "# print(test_string)"
   ]
  },
  {
   "cell_type": "code",
   "execution_count": null,
   "metadata": {},
   "outputs": [],
   "source": []
  },
  {
   "cell_type": "code",
   "execution_count": 13,
   "metadata": {},
   "outputs": [],
   "source": [
    "DATASETS = ['cora', 'citeseer', 'pubmed']\n",
    "MODELS = ['GCN', 'SGC', 'APPNP']\n",
    "## TODO: GPRGNN, BernNet, ...\n",
    "# CORRECT_AND_SMOOTHES = [True, False]\n",
    "CORRECT_AND_SMOOTHES = [False]\n",
    "ONE_HOT_MASKS = [['train_mask'], ['train_mask', 'val_mask']]"
   ]
  },
  {
   "cell_type": "code",
   "execution_count": 14,
   "metadata": {},
   "outputs": [
    {
     "name": "stdout",
     "output_type": "stream",
     "text": [
      "### `exp_1_run.sh` File ###\n",
      "### TO RUN: `sh exp_1_run.sh` ###\n",
      "\n"
     ]
    }
   ],
   "source": [
    "exp_1_run_sh = ''\n",
    "exp_1_run_sh += '### `exp_1_run.sh` File ###'\n",
    "exp_1_run_sh += '\\n### TO RUN: `sh exp_1_run.sh` ###\\n'\n",
    "\n",
    "# exp_1_run_sh += '\\n' + \\\n",
    "# \"\"\"\n",
    "# ## activate conda env\n",
    "# eval \"$(conda shell.bash hook)\"\n",
    "# conda activate pyg\n",
    "# \"\"\"\n",
    "\n",
    "print(exp_1_run_sh)"
   ]
  },
  {
   "cell_type": "code",
   "execution_count": 15,
   "metadata": {},
   "outputs": [],
   "source": [
    "\n",
    "for dataset in DATASETS:\n",
    "    # if dataset in ['pubmed']:\n",
    "    #     topoinf_threshold = 1e-3    # NOTE: TopoInf in large graphs will be relatively smaller.\n",
    "    # else:\n",
    "    #     topoinf_threshold = 5e-2\n",
    "    for model in MODELS:\n",
    "        for correct_and_smooth in CORRECT_AND_SMOOTHES:\n",
    "            for one_hot_mask in ONE_HOT_MASKS:\n",
    "                exp_1_run_sh += \\\n",
    "                    topoinf_train_model_wrapper(dataset=dataset,\n",
    "                                                model=model,\n",
    "                                                correct_and_smooth=correct_and_smooth,\n",
    "                                                one_hot_mask=one_hot_mask,\n",
    "                                                # topoinf_threshold=topoinf_threshold,\n",
    "                                                )"
   ]
  },
  {
   "cell_type": "code",
   "execution_count": 16,
   "metadata": {},
   "outputs": [],
   "source": [
    "\n",
    "\n",
    "exp_1_run_sh_file_path = './run_exp.sh'\n",
    "with open(exp_1_run_sh_file_path, 'w') as f:\n",
    "    f.write(exp_1_run_sh)"
   ]
  },
  {
   "cell_type": "code",
   "execution_count": null,
   "metadata": {},
   "outputs": [],
   "source": []
  }
 ],
 "metadata": {
  "kernelspec": {
   "display_name": "topoinfpy3.9",
   "language": "python",
   "name": "python3"
  },
  "language_info": {
   "codemirror_mode": {
    "name": "ipython",
    "version": 3
   },
   "file_extension": ".py",
   "mimetype": "text/x-python",
   "name": "python",
   "nbconvert_exporter": "python",
   "pygments_lexer": "ipython3",
   "version": "3.9.20"
  },
  "orig_nbformat": 4
 },
 "nbformat": 4,
 "nbformat_minor": 2
}

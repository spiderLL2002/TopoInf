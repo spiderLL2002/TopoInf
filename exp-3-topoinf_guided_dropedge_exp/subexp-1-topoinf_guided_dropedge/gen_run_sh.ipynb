{
 "cells": [
  {
   "cell_type": "markdown",
   "metadata": {},
   "source": [
    "## Generate Shell File"
   ]
  },
  {
   "cell_type": "code",
   "execution_count": 1,
   "metadata": {},
   "outputs": [],
   "source": [
    "def topoinf_pseudo_label_guided_dropedge_wrapper(\n",
    "        py_file = 'topoinf_pseudo_label_guided_dropedge.py',\n",
    "        model = 'GCN',\n",
    "        dataset = 'cora',\n",
    "        dropout = 0.0,\n",
    "        dropedge_rate = 0.4, \n",
    "        dropedge_temperature = 0.5,\n",
    "        one_hot_mask = 'train_mask val_mask', \n",
    "        correct_and_smooth = False,\n",
    "    ):\n",
    "    command = ''\n",
    "\n",
    "    # model & dataset\n",
    "    command += f\"\\npython {py_file} \\\\\"   # NOTE: .py file\n",
    "    command += f\"\\n\\t--model {model} \\\\\"\n",
    "    command += f\"\\n\\t--dataset {dataset} \\\\\"\n",
    "\n",
    "    # drop setting\n",
    "    command += f\"\\n\\t--dropout {dropout} \\\\\"\n",
    "    command += f\"\\n\\t--dropedge_rate {dropedge_rate} \\\\\"\n",
    "    command += f\"\\n\\t--dropedge-temperature {dropedge_temperature} \\\\\"\n",
    "    command += f\"\\n\\t--one-hot-mask {one_hot_mask} \\\\\"\n",
    "    \n",
    "    if correct_and_smooth:\n",
    "        command += f\"\\n\\t--use_correct_and_smooth \\\\\"\n",
    "    \n",
    "    command += '\\n\\n'\n",
    "    \n",
    "    return command\n",
    "\n",
    "# test_string = topoinf_pseudo_label_guided_dropedge_wrapper() + topoinf_pseudo_label_guided_dropedge_wrapper(echo=True)\n",
    "# print(test_string)"
   ]
  },
  {
   "cell_type": "code",
   "execution_count": 2,
   "metadata": {},
   "outputs": [
    {
     "name": "stdout",
     "output_type": "stream",
     "text": [
      "### `exp_1_run.sh` File ###\n",
      "### TO RUN: `sh exp_1_run.sh` ###\n",
      "\n"
     ]
    }
   ],
   "source": [
    "exp_1_run_sh = ''\n",
    "exp_1_run_sh += '### `exp_1_run.sh` File ###'\n",
    "exp_1_run_sh += '\\n### TO RUN: `sh exp_1_run.sh` ###'\n",
    "\n",
    "exp_1_run_sh += '\\n' \n",
    "\n",
    "# exp_1_run_sh += \\\n",
    "# \"\"\"\n",
    "# ## activate conda env\n",
    "# eval \"$(conda shell.bash hook)\"\n",
    "# conda activate pyg\n",
    "# \"\"\"\n",
    "\n",
    "print(exp_1_run_sh)"
   ]
  },
  {
   "cell_type": "markdown",
   "metadata": {},
   "source": [
    "### Search by Grid"
   ]
  },
  {
   "cell_type": "code",
   "execution_count": 3,
   "metadata": {},
   "outputs": [],
   "source": [
    "DATASETS = ['cora', 'citeseer', 'pubmed']\n",
    "MODELS = ['GCN', 'SGC', 'APPNP']\n",
    "\n",
    "DROPOUTS = [0.0]\n",
    "DROPEDGES = [0.2, 0.3, 0.4]\n",
    "TEMPERATURES = [0.5, 0.75, 1]\n",
    "MASKS = ['train_mask', 'train_mask val_mask']\n",
    "USECS = [False]     # [False, True]"
   ]
  },
  {
   "cell_type": "code",
   "execution_count": 4,
   "metadata": {},
   "outputs": [],
   "source": [
    "task_counter = 0\n",
    "for dataset in DATASETS:\n",
    "    for model in MODELS:\n",
    "        for correct_and_smooth in USECS:\n",
    "            for one_hot_mask in MASKS:\n",
    "                for dropout in DROPOUTS:\n",
    "                    for dropedge_rate in DROPEDGES:\n",
    "                        for dropedge_temperature in TEMPERATURES:\n",
    "                            exp_1_run_sh += \\\n",
    "                                topoinf_pseudo_label_guided_dropedge_wrapper(\n",
    "                                            dataset=dataset,\n",
    "                                            model=model,\n",
    "                                            dropout = dropout,\n",
    "                                            dropedge_rate = dropedge_rate, \n",
    "                                            dropedge_temperature = dropedge_temperature,\n",
    "                                            correct_and_smooth = correct_and_smooth,\n",
    "                                            one_hot_mask = one_hot_mask,\n",
    "                                            )\n",
    "                            task_counter += 1"
   ]
  },
  {
   "cell_type": "code",
   "execution_count": 5,
   "metadata": {},
   "outputs": [],
   "source": [
    "exp_1_run_sh += \\\n",
    "f\"\"\"\n",
    "###################################\n",
    "#      NUM TOTAL TASKS: {task_counter:4d}      #\n",
    "###################################\n",
    "\"\"\"\n",
    "\n",
    "exp_1_run_sh_file_path = './run_exp_1.sh'\n",
    "with open(exp_1_run_sh_file_path, 'w') as f:\n",
    "    f.write(exp_1_run_sh)"
   ]
  },
  {
   "cell_type": "code",
   "execution_count": null,
   "metadata": {},
   "outputs": [],
   "source": []
  }
 ],
 "metadata": {
  "kernelspec": {
   "display_name": "base",
   "language": "python",
   "name": "base"
  },
  "language_info": {
   "codemirror_mode": {
    "name": "ipython",
    "version": 3
   },
   "file_extension": ".py",
   "mimetype": "text/x-python",
   "name": "python",
   "nbconvert_exporter": "python",
   "pygments_lexer": "ipython3",
   "version": "3.8.8"
  },
  "orig_nbformat": 4
 },
 "nbformat": 4,
 "nbformat_minor": 2
}

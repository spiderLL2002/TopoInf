{
 "cells": [
  {
   "cell_type": "markdown",
   "metadata": {},
   "source": [
    "## Generate Shell File"
   ]
  },
  {
   "cell_type": "code",
   "execution_count": 1,
   "metadata": {},
   "outputs": [],
   "source": [
    "def topoinf_train_model_wrapper(\n",
    "        dataset = 'cora',\n",
    "        model_list = ['GCN', 'SGC', 'APPNP', 'MLP'],\n",
    "        num_layers = 3,\n",
    "\n",
    "        delete_strategy = 'topoinf',\n",
    "        delete_mode_list = ['pos', 'neg'],\n",
    "        delete_unit = 'mode_ratio',\n",
    "        delete_rate_list = [0.1, 0.2, 0.3, 0.4, 0.5, 0.6, 0.7, 0.8, 0.9, 1.0],\n",
    "        \n",
    "        k_order = 3,\n",
    "        coefficients = [0.0, 0.0, 0.0, 1.0],\n",
    "        topoinf_threshold = 5e-4,\n",
    "\n",
    "        echo = False,\n",
    "    ):\n",
    "    command = ''\n",
    "\n",
    "    command += \"\\npython topoinf_train_model.py \\\\\"\n",
    "    command += f\"\\n\\t--dataset {dataset} \\\\\"\n",
    "    command += f\"\\n\\t--model-list {' '.join(model_list)} \\\\\"\n",
    "    command += f\"\\n\\t--num-layers {num_layers} \\\\\"\n",
    "    \n",
    "    command += f\"\\n\\t--delete-unit {delete_unit} \\\\\"\n",
    "    command += f\"\\n\\t--delete-mode-list {' '.join(delete_mode_list)} \\\\\"\n",
    "    command += f\"\\n\\t--delete-strategy {delete_strategy} \\\\\"\n",
    "\n",
    "    delete_rate_str_list = [str(r) for r in delete_rate_list]\n",
    "    command += f\"\\n\\t--delete-rate-list {' '.join(delete_rate_str_list)} \\\\\"\n",
    "    \n",
    "    command += f\"\\n\\t--k-order {k_order} \\\\\"\n",
    "    coefficients_str = [str(round(c, 4)) for c in coefficients]\n",
    "    command += f\"\\n\\t--coefficients {' '.join(coefficients_str)} \\\\\"\n",
    "    command += f\"\\n\\t--topoinf-threshold {topoinf_threshold} \\\\\" if topoinf_threshold is not None else ''\n",
    "    \n",
    "    command += '\\n\\n'\n",
    "    return command\n",
    "\n",
    "# test_string = topoinf_train_model_wrapper() + topoinf_train_model_wrapper(echo=True, coefficients=[1/3, 1/3, 1/3])\n",
    "# print(test_string)"
   ]
  },
  {
   "cell_type": "code",
   "execution_count": 2,
   "metadata": {},
   "outputs": [],
   "source": [
    "DATASETS = ['cora', 'citeseer', 'pubmed', 'photo', 'computers', 'actor']\n",
    "COEFFICIENTS = [[0.0, 0.0, 1.0]]"
   ]
  },
  {
   "cell_type": "code",
   "execution_count": 3,
   "metadata": {},
   "outputs": [
    {
     "name": "stdout",
     "output_type": "stream",
     "text": [
      "### `exp_run.sh` File ###\n",
      "### TO RUN: `sh exp_run.sh` ###\n",
      "\n"
     ]
    }
   ],
   "source": [
    "exp_run_sh = ''\n",
    "exp_run_sh += '### `exp_run.sh` File ###'\n",
    "exp_run_sh += '\\n### TO RUN: `sh exp_run.sh` ###'\n",
    "\n",
    "exp_run_sh += '\\n'\n",
    "\n",
    "# exp_run_sh += \\\n",
    "# \"\"\"\n",
    "# ## activate conda env\n",
    "# eval \"$(conda shell.bash hook)\"\n",
    "# conda activate pyg\n",
    "# \"\"\"\n",
    "\n",
    "print(exp_run_sh)"
   ]
  },
  {
   "cell_type": "code",
   "execution_count": 4,
   "metadata": {},
   "outputs": [],
   "source": [
    "task_counter = 0\n",
    "for dataset in DATASETS:\n",
    "        for coefficients in COEFFICIENTS:\n",
    "                exp_run_sh += topoinf_train_model_wrapper(dataset = dataset,\n",
    "                                                            coefficients = coefficients,\n",
    "                                                        )\n",
    "                task_counter += 1"
   ]
  },
  {
   "cell_type": "code",
   "execution_count": 5,
   "metadata": {},
   "outputs": [],
   "source": [
    "exp_run_sh += \\\n",
    "f\"\"\"\n",
    "###################################\n",
    "#      NUM TOTAL TASKS: {task_counter:4d}      #\n",
    "###################################\n",
    "\"\"\"\n",
    "\n",
    "exp_run_sh_file_path = './run_exp.sh'\n",
    "with open(exp_run_sh_file_path, 'w') as f:\n",
    "    f.write(exp_run_sh)"
   ]
  },
  {
   "cell_type": "code",
   "execution_count": null,
   "metadata": {},
   "outputs": [],
   "source": []
  }
 ],
 "metadata": {
  "kernelspec": {
   "display_name": "base",
   "language": "python",
   "name": "base"
  },
  "language_info": {
   "codemirror_mode": {
    "name": "ipython",
    "version": 3
   },
   "file_extension": ".py",
   "mimetype": "text/x-python",
   "name": "python",
   "nbconvert_exporter": "python",
   "pygments_lexer": "ipython3",
   "version": "3.8.8"
  },
  "orig_nbformat": 4
 },
 "nbformat": 4,
 "nbformat_minor": 2
}

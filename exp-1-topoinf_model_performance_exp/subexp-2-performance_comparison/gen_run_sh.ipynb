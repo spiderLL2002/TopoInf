{
 "cells": [
  {
   "cell_type": "markdown",
   "metadata": {},
   "source": [
    "## Generate Shell File"
   ]
  },
  {
   "cell_type": "code",
   "execution_count": 17,
   "metadata": {},
   "outputs": [],
   "source": [
    "def topoinf_train_model_wrapper(\n",
    "        dataset = 'cora',\n",
    "        model_list = ['GCN', 'SGC', 'APPNP'],\n",
    "        num_layers = 3,\n",
    "\n",
    "        delete_strategy = 'topoinf',\n",
    "        delete_mode_list = ['pos', 'neg'],\n",
    "        delete_unit = 'ratio',\n",
    "        delete_num_list = [0.2]*7,\n",
    "        k_order = 3,\n",
    "        topoinf_threshold = 5e-4,\n",
    "\n",
    "        echo = False,\n",
    "    ):\n",
    "    command = ''\n",
    "\n",
    "    # comment = f\"[{dataset=}]\"\n",
    "    # command += f\"\\n## SETTING: {comment}\"\n",
    "    # if echo:\n",
    "    #     command += f'\\necho \"\\\\n\\\\nRUNING {comment}\"'\n",
    "\n",
    "    command += \"\\npython ../subexp-1-performance_curve/topoinf_train_model.py \\\\\"\n",
    "    command += f\"\\n\\t--dataset {dataset} \\\\\"\n",
    "    command += f\"\\n\\t--model-list {' '.join(model_list)} \\\\\"\n",
    "    command += f\"\\n\\t--num-layers {num_layers} \\\\\"\n",
    "    \n",
    "    command += f\"\\n\\t--delete-unit {delete_unit} \\\\\"\n",
    "    command += f\"\\n\\t--delete-mode-list {' '.join(delete_mode_list)} \\\\\"\n",
    "    command += f\"\\n\\t--delete-strategy {delete_strategy} \\\\\"\n",
    "\n",
    "    delete_num_str_list = [str(r) for r in delete_num_list]\n",
    "    command += f\"\\n\\t--delete-num-list {' '.join(delete_num_str_list)} \\\\\"\n",
    "    \n",
    "    command += f\"\\n\\t--k-order {k_order} \\\\\"\n",
    "    command += f\"\\n\\t--topoinf-threshold {topoinf_threshold} \\\\\" if topoinf_threshold is not None else ''\n",
    "    \n",
    "    command += '\\n\\n'\n",
    "    return command\n",
    "\n",
    "# test_string = topoinf_train_model_wrapper() + topoinf_train_model_wrapper(echo=True)\n",
    "# print(test_string)"
   ]
  },
  {
   "cell_type": "code",
   "execution_count": 12,
   "metadata": {},
   "outputs": [],
   "source": [
    "DATASETS = ['cora', 'citeseer', 'pubmed']\n",
    "DELETE_STRATEGIES = ['all_random', 'topoinf', 'label']"
   ]
  },
  {
   "cell_type": "code",
   "execution_count": 13,
   "metadata": {},
   "outputs": [
    {
     "name": "stdout",
     "output_type": "stream",
     "text": [
      "### `exp_1_run.sh` File ###\n",
      "### TO RUN: `sh exp_1_run.sh` ###\n",
      "\n"
     ]
    }
   ],
   "source": [
    "exp_1_run_sh = ''\n",
    "exp_1_run_sh += '### `exp_1_run.sh` File ###'\n",
    "exp_1_run_sh += '\\n### TO RUN: `sh exp_1_run.sh` ###'\n",
    "\n",
    "exp_1_run_sh += '\\n'\n",
    "\n",
    "# exp_1_run_sh += \\\n",
    "# \"\"\"\n",
    "# ## activate conda env\n",
    "# eval \"$(conda shell.bash hook)\"\n",
    "# conda activate pyg\n",
    "# \"\"\"\n",
    "\n",
    "print(exp_1_run_sh)"
   ]
  },
  {
   "cell_type": "code",
   "execution_count": 14,
   "metadata": {},
   "outputs": [],
   "source": [
    "task_counter = 0\n",
    "for dataset in DATASETS:\n",
    "    if dataset in ['pubmed']:\n",
    "        delete_num_list = [500*i for i in range(1, 7)]\n",
    "    else:\n",
    "        delete_num_list = [100*i for i in range(1, 7)]\n",
    "    for delete_strategy in DELETE_STRATEGIES:\n",
    "        exp_1_run_sh += topoinf_train_model_wrapper(dataset=dataset,\n",
    "                                                    delete_strategy=delete_strategy,\n",
    "                                                    delete_num_list=delete_num_list,\n",
    "                                                        )\n",
    "        task_counter += 1"
   ]
  },
  {
   "cell_type": "code",
   "execution_count": 15,
   "metadata": {},
   "outputs": [],
   "source": [
    "exp_1_run_sh += \\\n",
    "f\"\"\"\n",
    "###################################\n",
    "#      NUM TOTAL TASKS: {task_counter:4d}      #\n",
    "###################################\n",
    "\"\"\"\n",
    "\n",
    "exp_1_run_sh_file_path = './run_exp.sh'\n",
    "with open(exp_1_run_sh_file_path, 'w') as f:\n",
    "    f.write(exp_1_run_sh)"
   ]
  },
  {
   "cell_type": "code",
   "execution_count": null,
   "metadata": {},
   "outputs": [],
   "source": []
  }
 ],
 "metadata": {
  "kernelspec": {
   "display_name": "topoinfpy3.9",
   "language": "python",
   "name": "python3"
  },
  "language_info": {
   "codemirror_mode": {
    "name": "ipython",
    "version": 3
   },
   "file_extension": ".py",
   "mimetype": "text/x-python",
   "name": "python",
   "nbconvert_exporter": "python",
   "pygments_lexer": "ipython3",
   "version": "3.9.20"
  },
  "orig_nbformat": 4
 },
 "nbformat": 4,
 "nbformat_minor": 2
}
